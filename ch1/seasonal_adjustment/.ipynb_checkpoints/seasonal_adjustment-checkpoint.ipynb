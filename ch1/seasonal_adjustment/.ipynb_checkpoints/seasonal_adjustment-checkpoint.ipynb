{
 "cells": [
  {
   "cell_type": "markdown",
   "id": "2a74d62b",
   "metadata": {},
   "source": [
    "# ***Seasonal Adjustment***"
   ]
  },
  {
   "cell_type": "markdown",
   "id": "aad4a512",
   "metadata": {},
   "source": [
    "## Import library"
   ]
  },
  {
   "cell_type": "code",
   "execution_count": 1,
   "id": "91df0f85",
   "metadata": {},
   "outputs": [],
   "source": [
    "import pandas as pd\n",
    "import numpy as np\n",
    "\n",
    "%matplotlib inline\n",
    "import matplotlib.pyplot as plt"
   ]
  },
  {
   "cell_type": "markdown",
   "id": "98c53c1e",
   "metadata": {},
   "source": [
    "## Load \"icecream.csv\""
   ]
  },
  {
   "cell_type": "code",
   "execution_count": 2,
   "id": "8278891d",
   "metadata": {},
   "outputs": [],
   "source": [
    "df_ice = pd.read_csv('../../data/icecream.csv')"
   ]
  },
  {
   "cell_type": "code",
   "execution_count": 3,
   "id": "68519208",
   "metadata": {},
   "outputs": [
    {
     "data": {
      "text/html": [
       "<div>\n",
       "<style scoped>\n",
       "    .dataframe tbody tr th:only-of-type {\n",
       "        vertical-align: middle;\n",
       "    }\n",
       "\n",
       "    .dataframe tbody tr th {\n",
       "        vertical-align: top;\n",
       "    }\n",
       "\n",
       "    .dataframe thead th {\n",
       "        text-align: right;\n",
       "    }\n",
       "</style>\n",
       "<table border=\"1\" class=\"dataframe\">\n",
       "  <thead>\n",
       "    <tr style=\"text-align: right;\">\n",
       "      <th></th>\n",
       "      <th>year</th>\n",
       "      <th>month</th>\n",
       "      <th>expenditure_yen</th>\n",
       "    </tr>\n",
       "  </thead>\n",
       "  <tbody>\n",
       "    <tr>\n",
       "      <th>0</th>\n",
       "      <td>2003</td>\n",
       "      <td>1</td>\n",
       "      <td>331</td>\n",
       "    </tr>\n",
       "    <tr>\n",
       "      <th>1</th>\n",
       "      <td>2003</td>\n",
       "      <td>2</td>\n",
       "      <td>268</td>\n",
       "    </tr>\n",
       "    <tr>\n",
       "      <th>2</th>\n",
       "      <td>2003</td>\n",
       "      <td>3</td>\n",
       "      <td>365</td>\n",
       "    </tr>\n",
       "    <tr>\n",
       "      <th>3</th>\n",
       "      <td>2003</td>\n",
       "      <td>4</td>\n",
       "      <td>492</td>\n",
       "    </tr>\n",
       "    <tr>\n",
       "      <th>4</th>\n",
       "      <td>2003</td>\n",
       "      <td>5</td>\n",
       "      <td>632</td>\n",
       "    </tr>\n",
       "    <tr>\n",
       "      <th>...</th>\n",
       "      <td>...</td>\n",
       "      <td>...</td>\n",
       "      <td>...</td>\n",
       "    </tr>\n",
       "    <tr>\n",
       "      <th>115</th>\n",
       "      <td>2012</td>\n",
       "      <td>8</td>\n",
       "      <td>1332</td>\n",
       "    </tr>\n",
       "    <tr>\n",
       "      <th>116</th>\n",
       "      <td>2012</td>\n",
       "      <td>9</td>\n",
       "      <td>849</td>\n",
       "    </tr>\n",
       "    <tr>\n",
       "      <th>117</th>\n",
       "      <td>2012</td>\n",
       "      <td>10</td>\n",
       "      <td>515</td>\n",
       "    </tr>\n",
       "    <tr>\n",
       "      <th>118</th>\n",
       "      <td>2012</td>\n",
       "      <td>11</td>\n",
       "      <td>326</td>\n",
       "    </tr>\n",
       "    <tr>\n",
       "      <th>119</th>\n",
       "      <td>2012</td>\n",
       "      <td>12</td>\n",
       "      <td>414</td>\n",
       "    </tr>\n",
       "  </tbody>\n",
       "</table>\n",
       "<p>120 rows × 3 columns</p>\n",
       "</div>"
      ],
      "text/plain": [
       "     year  month  expenditure_yen\n",
       "0    2003      1              331\n",
       "1    2003      2              268\n",
       "2    2003      3              365\n",
       "3    2003      4              492\n",
       "4    2003      5              632\n",
       "..    ...    ...              ...\n",
       "115  2012      8             1332\n",
       "116  2012      9              849\n",
       "117  2012     10              515\n",
       "118  2012     11              326\n",
       "119  2012     12              414\n",
       "\n",
       "[120 rows x 3 columns]"
      ]
     },
     "execution_count": 3,
     "metadata": {},
     "output_type": "execute_result"
    }
   ],
   "source": [
    "df_ice"
   ]
  },
  {
   "cell_type": "markdown",
   "id": "c569297d",
   "metadata": {},
   "source": [
    "## Centered Moving Average"
   ]
  },
  {
   "cell_type": "code",
   "execution_count": 4,
   "id": "2551ea1a",
   "metadata": {},
   "outputs": [],
   "source": [
    "df_ma = df_ice.loc[:,'expenditure_yen'].rolling(window=12).mean().shift(-6)\n",
    "df_cma = df_ma.rolling(window=2).mean()"
   ]
  },
  {
   "cell_type": "markdown",
   "id": "c586c920",
   "metadata": {},
   "source": [
    "## Seasonal Adjusment"
   ]
  },
  {
   "cell_type": "code",
   "execution_count": 5,
   "id": "c7c49aa7",
   "metadata": {},
   "outputs": [],
   "source": [
    "# O / T = S * I\n",
    "df_orig_div_cma = df_ice.loc[:,'expenditure_yen'] / df_cma"
   ]
  },
  {
   "cell_type": "code",
   "execution_count": 6,
   "id": "d0d45210",
   "metadata": {},
   "outputs": [],
   "source": [
    "orig_div_cma = df_orig_div_cma.values        # Add monthly\n",
    "s_index = np.zeros(12)\n",
    "counter = np.zeros(12, dtype='i')\n",
    "\n",
    "for idx in range(len(orig_div_cma)//12):        # Get data per twelve months\n",
    "    cut_orig_div_cma = orig_div_cma[idx*12:(idx+1)*12]\n",
    "    mask = cut_orig_div_cma!=cut_orig_div_cma        # nan -> 0 using np.where \n",
    "    counter += np.where(mask, 0, 1)\n",
    "    s_index += np.where(mask, 0, cut_orig_div_cma)"
   ]
  },
  {
   "cell_type": "code",
   "execution_count": 7,
   "id": "2e1f53dd",
   "metadata": {},
   "outputs": [
    {
     "name": "stdout",
     "output_type": "stream",
     "text": [
      "[ 57.05374632  48.4935788   61.87100094  82.34066594 112.21945388\n",
      " 129.50185932 178.03993789 201.78512364 122.39560152  79.21403276\n",
      "  59.2923283   67.79267067]\n",
      "1200.0000000000002\n"
     ]
    }
   ],
   "source": [
    "s_index /= counter        # mean of each month\n",
    "s_index = s_index / s_index.sum() * 1200        # calculate seasonal index\n",
    "print(s_index)\n",
    "print(s_index.sum())        # s_index.sum() -> 1200"
   ]
  },
  {
   "cell_type": "markdown",
   "id": "1820c00d",
   "metadata": {},
   "source": [
    "## np.where"
   ]
  },
  {
   "cell_type": "code",
   "execution_count": 8,
   "id": "717d8d1e",
   "metadata": {},
   "outputs": [
    {
     "data": {
      "text/plain": [
       "array([       nan,        nan,        nan,        nan,        nan,\n",
       "              nan, 1.48418198, 1.90022472, 1.29613606, 0.76877235])"
      ]
     },
     "execution_count": 8,
     "metadata": {},
     "output_type": "execute_result"
    }
   ],
   "source": [
    "df_orig_div_cma.values[0:10]"
   ]
  },
  {
   "cell_type": "code",
   "execution_count": 9,
   "id": "e8a6a901",
   "metadata": {},
   "outputs": [],
   "source": [
    "ms = df_orig_div_cma.values[0:10]!=df_orig_div_cma.values[0:10]        # nan -> True"
   ]
  },
  {
   "cell_type": "code",
   "execution_count": 10,
   "id": "cc6a0aa6",
   "metadata": {},
   "outputs": [
    {
     "data": {
      "text/plain": [
       "array([0, 0, 0, 0, 0, 0, 1, 1, 1, 1])"
      ]
     },
     "execution_count": 10,
     "metadata": {},
     "output_type": "execute_result"
    }
   ],
   "source": [
    "np.where(ms, 0, 1)        # True -> 0 : False -> 1"
   ]
  },
  {
   "cell_type": "code",
   "execution_count": null,
   "id": "13764e5b",
   "metadata": {},
   "outputs": [],
   "source": []
  }
 ],
 "metadata": {
  "kernelspec": {
   "display_name": "Python 3 (ipykernel)",
   "language": "python",
   "name": "python3"
  },
  "language_info": {
   "codemirror_mode": {
    "name": "ipython",
    "version": 3
   },
   "file_extension": ".py",
   "mimetype": "text/x-python",
   "name": "python",
   "nbconvert_exporter": "python",
   "pygments_lexer": "ipython3",
   "version": "3.10.12"
  }
 },
 "nbformat": 4,
 "nbformat_minor": 5
}
