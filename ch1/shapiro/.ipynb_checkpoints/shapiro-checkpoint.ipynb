{
 "cells": [
  {
   "cell_type": "code",
   "execution_count": 1,
   "id": "16302fb7",
   "metadata": {},
   "outputs": [],
   "source": [
    "%matplotlib inline\n",
    "import matplotlib.pyplot as plt\n",
    "import numpy as np\n",
    "import pandas as pd"
   ]
  },
  {
   "cell_type": "code",
   "execution_count": 2,
   "id": "30d312e4",
   "metadata": {},
   "outputs": [],
   "source": [
    "df_historical = pd.read_csv(\"../m_quote.csv\")"
   ]
  },
  {
   "cell_type": "code",
   "execution_count": 3,
   "id": "df04c707",
   "metadata": {},
   "outputs": [
    {
     "data": {
      "text/html": [
       "<div>\n",
       "<style scoped>\n",
       "    .dataframe tbody tr th:only-of-type {\n",
       "        vertical-align: middle;\n",
       "    }\n",
       "\n",
       "    .dataframe tbody tr th {\n",
       "        vertical-align: top;\n",
       "    }\n",
       "\n",
       "    .dataframe thead th {\n",
       "        text-align: right;\n",
       "    }\n",
       "</style>\n",
       "<table border=\"1\" class=\"dataframe\">\n",
       "  <thead>\n",
       "    <tr style=\"text-align: right;\">\n",
       "      <th></th>\n",
       "      <th>USD</th>\n",
       "      <th>GBP</th>\n",
       "      <th>EUR</th>\n",
       "      <th>CAD</th>\n",
       "      <th>CHF</th>\n",
       "      <th>SEK</th>\n",
       "      <th>DKK</th>\n",
       "      <th>NOK</th>\n",
       "      <th>AUD</th>\n",
       "      <th>NZD</th>\n",
       "      <th>...</th>\n",
       "      <th>HUF</th>\n",
       "      <th>CZK</th>\n",
       "      <th>PLN</th>\n",
       "      <th>TRY</th>\n",
       "      <th>IDR(100).1</th>\n",
       "      <th>CNY.1</th>\n",
       "      <th>MYR.1</th>\n",
       "      <th>KRW(100).1</th>\n",
       "      <th>TWD</th>\n",
       "      <th>RUB</th>\n",
       "    </tr>\n",
       "  </thead>\n",
       "  <tbody>\n",
       "    <tr>\n",
       "      <th>2002/4/30</th>\n",
       "      <td>131.15</td>\n",
       "      <td>189.01</td>\n",
       "      <td>115.97</td>\n",
       "      <td>82.83</td>\n",
       "      <td>79.13</td>\n",
       "      <td>12.73</td>\n",
       "      <td>15.61</td>\n",
       "      <td>15.20</td>\n",
       "      <td>70.24</td>\n",
       "      <td>58.08</td>\n",
       "      <td>...</td>\n",
       "      <td>*****</td>\n",
       "      <td>*****</td>\n",
       "      <td>*****</td>\n",
       "      <td>NaN</td>\n",
       "      <td>1.39</td>\n",
       "      <td>15.84</td>\n",
       "      <td>*****</td>\n",
       "      <td>9.99</td>\n",
       "      <td>3.77</td>\n",
       "      <td>NaN</td>\n",
       "    </tr>\n",
       "    <tr>\n",
       "      <th>2002/5/31</th>\n",
       "      <td>126.44</td>\n",
       "      <td>184.56</td>\n",
       "      <td>115.88</td>\n",
       "      <td>81.58</td>\n",
       "      <td>79.60</td>\n",
       "      <td>12.57</td>\n",
       "      <td>15.59</td>\n",
       "      <td>15.43</td>\n",
       "      <td>69.58</td>\n",
       "      <td>58.38</td>\n",
       "      <td>...</td>\n",
       "      <td>*****</td>\n",
       "      <td>*****</td>\n",
       "      <td>*****</td>\n",
       "      <td>NaN</td>\n",
       "      <td>1.41</td>\n",
       "      <td>15.28</td>\n",
       "      <td>*****</td>\n",
       "      <td>10.10</td>\n",
       "      <td>3.68</td>\n",
       "      <td>NaN</td>\n",
       "    </tr>\n",
       "    <tr>\n",
       "      <th>2002/6/28</th>\n",
       "      <td>123.53</td>\n",
       "      <td>183.00</td>\n",
       "      <td>117.83</td>\n",
       "      <td>80.64</td>\n",
       "      <td>80.09</td>\n",
       "      <td>12.94</td>\n",
       "      <td>15.86</td>\n",
       "      <td>15.92</td>\n",
       "      <td>70.29</td>\n",
       "      <td>60.48</td>\n",
       "      <td>...</td>\n",
       "      <td>*****</td>\n",
       "      <td>*****</td>\n",
       "      <td>*****</td>\n",
       "      <td>NaN</td>\n",
       "      <td>1.44</td>\n",
       "      <td>14.93</td>\n",
       "      <td>*****</td>\n",
       "      <td>10.20</td>\n",
       "      <td>3.66</td>\n",
       "      <td>NaN</td>\n",
       "    </tr>\n",
       "    <tr>\n",
       "      <th>2002/7/31</th>\n",
       "      <td>118.05</td>\n",
       "      <td>183.64</td>\n",
       "      <td>117.23</td>\n",
       "      <td>76.52</td>\n",
       "      <td>80.16</td>\n",
       "      <td>12.67</td>\n",
       "      <td>15.79</td>\n",
       "      <td>15.83</td>\n",
       "      <td>65.42</td>\n",
       "      <td>56.82</td>\n",
       "      <td>...</td>\n",
       "      <td>*****</td>\n",
       "      <td>*****</td>\n",
       "      <td>*****</td>\n",
       "      <td>NaN</td>\n",
       "      <td>1.34</td>\n",
       "      <td>14.26</td>\n",
       "      <td>*****</td>\n",
       "      <td>9.98</td>\n",
       "      <td>3.56</td>\n",
       "      <td>NaN</td>\n",
       "    </tr>\n",
       "    <tr>\n",
       "      <th>2002/8/30</th>\n",
       "      <td>119.08</td>\n",
       "      <td>183.14</td>\n",
       "      <td>116.45</td>\n",
       "      <td>75.85</td>\n",
       "      <td>79.60</td>\n",
       "      <td>12.59</td>\n",
       "      <td>15.69</td>\n",
       "      <td>15.68</td>\n",
       "      <td>64.47</td>\n",
       "      <td>55.28</td>\n",
       "      <td>...</td>\n",
       "      <td>*****</td>\n",
       "      <td>*****</td>\n",
       "      <td>*****</td>\n",
       "      <td>NaN</td>\n",
       "      <td>1.35</td>\n",
       "      <td>14.39</td>\n",
       "      <td>*****</td>\n",
       "      <td>9.97</td>\n",
       "      <td>3.53</td>\n",
       "      <td>NaN</td>\n",
       "    </tr>\n",
       "    <tr>\n",
       "      <th>...</th>\n",
       "      <td>...</td>\n",
       "      <td>...</td>\n",
       "      <td>...</td>\n",
       "      <td>...</td>\n",
       "      <td>...</td>\n",
       "      <td>...</td>\n",
       "      <td>...</td>\n",
       "      <td>...</td>\n",
       "      <td>...</td>\n",
       "      <td>...</td>\n",
       "      <td>...</td>\n",
       "      <td>...</td>\n",
       "      <td>...</td>\n",
       "      <td>...</td>\n",
       "      <td>...</td>\n",
       "      <td>...</td>\n",
       "      <td>...</td>\n",
       "      <td>...</td>\n",
       "      <td>...</td>\n",
       "      <td>...</td>\n",
       "      <td>...</td>\n",
       "    </tr>\n",
       "    <tr>\n",
       "      <th>2023/5/31</th>\n",
       "      <td>137.43</td>\n",
       "      <td>171.47</td>\n",
       "      <td>149.16</td>\n",
       "      <td>101.75</td>\n",
       "      <td>153.00</td>\n",
       "      <td>13.12</td>\n",
       "      <td>20.03</td>\n",
       "      <td>12.72</td>\n",
       "      <td>91.28</td>\n",
       "      <td>85.42</td>\n",
       "      <td>...</td>\n",
       "      <td>0.4</td>\n",
       "      <td>6.32</td>\n",
       "      <td>32.92</td>\n",
       "      <td>6.97</td>\n",
       "      <td>0.93</td>\n",
       "      <td>*****</td>\n",
       "      <td>30.4</td>\n",
       "      <td>10.35</td>\n",
       "      <td>4.47</td>\n",
       "      <td>1.73</td>\n",
       "    </tr>\n",
       "    <tr>\n",
       "      <th>2023/6/30</th>\n",
       "      <td>141.27</td>\n",
       "      <td>178.36</td>\n",
       "      <td>153.06</td>\n",
       "      <td>106.23</td>\n",
       "      <td>156.81</td>\n",
       "      <td>13.12</td>\n",
       "      <td>20.55</td>\n",
       "      <td>13.07</td>\n",
       "      <td>94.74</td>\n",
       "      <td>86.60</td>\n",
       "      <td>...</td>\n",
       "      <td>0.41</td>\n",
       "      <td>6.46</td>\n",
       "      <td>34.31</td>\n",
       "      <td>6.02</td>\n",
       "      <td>0.95</td>\n",
       "      <td>*****</td>\n",
       "      <td>30.53</td>\n",
       "      <td>10.89</td>\n",
       "      <td>4.58</td>\n",
       "      <td>1.70</td>\n",
       "    </tr>\n",
       "    <tr>\n",
       "      <th>2023/7/31</th>\n",
       "      <td>141.29</td>\n",
       "      <td>181.79</td>\n",
       "      <td>156.04</td>\n",
       "      <td>106.87</td>\n",
       "      <td>161.42</td>\n",
       "      <td>13.41</td>\n",
       "      <td>20.95</td>\n",
       "      <td>13.73</td>\n",
       "      <td>95.09</td>\n",
       "      <td>87.89</td>\n",
       "      <td>...</td>\n",
       "      <td>0.41</td>\n",
       "      <td>6.54</td>\n",
       "      <td>35.13</td>\n",
       "      <td>5.34</td>\n",
       "      <td>0.94</td>\n",
       "      <td>*****</td>\n",
       "      <td>30.75</td>\n",
       "      <td>10.99</td>\n",
       "      <td>4.53</td>\n",
       "      <td>1.56</td>\n",
       "    </tr>\n",
       "    <tr>\n",
       "      <th>2023/8/31</th>\n",
       "      <td>144.85</td>\n",
       "      <td>184.15</td>\n",
       "      <td>158.01</td>\n",
       "      <td>107.55</td>\n",
       "      <td>164.93</td>\n",
       "      <td>13.40</td>\n",
       "      <td>21.20</td>\n",
       "      <td>13.85</td>\n",
       "      <td>94.02</td>\n",
       "      <td>86.90</td>\n",
       "      <td>...</td>\n",
       "      <td>0.41</td>\n",
       "      <td>6.56</td>\n",
       "      <td>35.46</td>\n",
       "      <td>5.39</td>\n",
       "      <td>0.95</td>\n",
       "      <td>*****</td>\n",
       "      <td>31.45</td>\n",
       "      <td>10.97</td>\n",
       "      <td>4.55</td>\n",
       "      <td>1.52</td>\n",
       "    </tr>\n",
       "    <tr>\n",
       "      <th>2023/9/29</th>\n",
       "      <td>147.74</td>\n",
       "      <td>183.29</td>\n",
       "      <td>157.83</td>\n",
       "      <td>109.09</td>\n",
       "      <td>164.48</td>\n",
       "      <td>13.32</td>\n",
       "      <td>21.17</td>\n",
       "      <td>13.77</td>\n",
       "      <td>94.84</td>\n",
       "      <td>87.54</td>\n",
       "      <td>...</td>\n",
       "      <td>0.41</td>\n",
       "      <td>6.48</td>\n",
       "      <td>34.36</td>\n",
       "      <td>5.48</td>\n",
       "      <td>0.96</td>\n",
       "      <td>*****</td>\n",
       "      <td>31.59</td>\n",
       "      <td>11.08</td>\n",
       "      <td>4.61</td>\n",
       "      <td>1.53</td>\n",
       "    </tr>\n",
       "  </tbody>\n",
       "</table>\n",
       "<p>258 rows × 36 columns</p>\n",
       "</div>"
      ],
      "text/plain": [
       "              USD     GBP     EUR     CAD     CHF    SEK    DKK    NOK    AUD  \\\n",
       "2002/4/30  131.15  189.01  115.97   82.83   79.13  12.73  15.61  15.20  70.24   \n",
       "2002/5/31  126.44  184.56  115.88   81.58   79.60  12.57  15.59  15.43  69.58   \n",
       "2002/6/28  123.53  183.00  117.83   80.64   80.09  12.94  15.86  15.92  70.29   \n",
       "2002/7/31  118.05  183.64  117.23   76.52   80.16  12.67  15.79  15.83  65.42   \n",
       "2002/8/30  119.08  183.14  116.45   75.85   79.60  12.59  15.69  15.68  64.47   \n",
       "...           ...     ...     ...     ...     ...    ...    ...    ...    ...   \n",
       "2023/5/31  137.43  171.47  149.16  101.75  153.00  13.12  20.03  12.72  91.28   \n",
       "2023/6/30  141.27  178.36  153.06  106.23  156.81  13.12  20.55  13.07  94.74   \n",
       "2023/7/31  141.29  181.79  156.04  106.87  161.42  13.41  20.95  13.73  95.09   \n",
       "2023/8/31  144.85  184.15  158.01  107.55  164.93  13.40  21.20  13.85  94.02   \n",
       "2023/9/29  147.74  183.29  157.83  109.09  164.48  13.32  21.17  13.77  94.84   \n",
       "\n",
       "             NZD  ...    HUF    CZK    PLN   TRY  IDR(100).1  CNY.1  MYR.1  \\\n",
       "2002/4/30  58.08  ...  *****  *****  *****   NaN        1.39  15.84  *****   \n",
       "2002/5/31  58.38  ...  *****  *****  *****   NaN        1.41  15.28  *****   \n",
       "2002/6/28  60.48  ...  *****  *****  *****   NaN        1.44  14.93  *****   \n",
       "2002/7/31  56.82  ...  *****  *****  *****   NaN        1.34  14.26  *****   \n",
       "2002/8/30  55.28  ...  *****  *****  *****   NaN        1.35  14.39  *****   \n",
       "...          ...  ...    ...    ...    ...   ...         ...    ...    ...   \n",
       "2023/5/31  85.42  ...    0.4   6.32  32.92  6.97        0.93  *****   30.4   \n",
       "2023/6/30  86.60  ...   0.41   6.46  34.31  6.02        0.95  *****  30.53   \n",
       "2023/7/31  87.89  ...   0.41   6.54  35.13  5.34        0.94  *****  30.75   \n",
       "2023/8/31  86.90  ...   0.41   6.56  35.46  5.39        0.95  *****  31.45   \n",
       "2023/9/29  87.54  ...   0.41   6.48  34.36  5.48        0.96  *****  31.59   \n",
       "\n",
       "           KRW(100).1   TWD   RUB  \n",
       "2002/4/30        9.99  3.77   NaN  \n",
       "2002/5/31       10.10  3.68   NaN  \n",
       "2002/6/28       10.20  3.66   NaN  \n",
       "2002/7/31        9.98  3.56   NaN  \n",
       "2002/8/30        9.97  3.53   NaN  \n",
       "...               ...   ...   ...  \n",
       "2023/5/31       10.35  4.47  1.73  \n",
       "2023/6/30       10.89  4.58  1.70  \n",
       "2023/7/31       10.99  4.53  1.56  \n",
       "2023/8/31       10.97  4.55  1.52  \n",
       "2023/9/29       11.08  4.61  1.53  \n",
       "\n",
       "[258 rows x 36 columns]"
      ]
     },
     "execution_count": 3,
     "metadata": {},
     "output_type": "execute_result"
    }
   ],
   "source": [
    "df_historical"
   ]
  },
  {
   "cell_type": "code",
   "execution_count": 4,
   "id": "a58ded3e",
   "metadata": {},
   "outputs": [
    {
     "data": {
      "text/plain": [
       "<Axes: ylabel='Frequency'>"
      ]
     },
     "execution_count": 4,
     "metadata": {},
     "output_type": "execute_result"
    },
    {
     "data": {
      "image/png": "[encoded data removed]",
      "text/plain": [
       "<Figure size 432x288 with 1 Axes>"
      ]
     },
     "metadata": {
      "needs_background": "light"
     },
     "output_type": "display_data"
    }
   ],
   "source": [
    "df_historical.USD.plot.hist()"
   ]
  },
  {
   "cell_type": "code",
   "execution_count": 5,
   "id": "29ec63e0",
   "metadata": {},
   "outputs": [
    {
     "data": {
      "text/plain": [
       "<Axes: ylabel='Frequency'>"
      ]
     },
     "execution_count": 5,
     "metadata": {},
     "output_type": "execute_result"
    },
    {
     "data": {
      "image/png": "[encoded data removed]",
      "text/plain": [
       "<Figure size 432x288 with 1 Axes>"
      ]
     },
     "metadata": {
      "needs_background": "light"
     },
     "output_type": "display_data"
    }
   ],
   "source": [
    "# diff 1\n",
    "df_diff1 = df_historical.USD.diff().dropna()\n",
    "# plot hist\n",
    "df_diff1.plot.hist()"
   ]
  },
  {
   "cell_type": "code",
   "execution_count": 6,
   "id": "cb6334ed",
   "metadata": {},
   "outputs": [
    {
     "name": "stdout",
     "output_type": "stream",
     "text": [
      "ShapiroResult(statistic=0.96401447057724, pvalue=4.587126568367239e-06)\n",
      "ShapiroResult(statistic=0.9856434464454651, pvalue=0.011123809963464737)\n"
     ]
    }
   ],
   "source": [
    "import scipy.stats as stats\n",
    "\n",
    "# Shapiro-Wilk testing\n",
    "print(stats.shapiro(df_historical.USD.values))\n",
    "# Shapiro-Wilk testing\n",
    "print(stats.shapiro(df_diff1.values))"
   ]
  },
  {
   "cell_type": "code",
   "execution_count": 16,
   "id": "54df151d",
   "metadata": {},
   "outputs": [],
   "source": [
    "import io\n",
    "import requests\n",
    "import statsmodels.api as sm\n",
    "\n",
    "# data of passanger\n",
    "url = \"https://www.analyticsvidhya.com/wp-content/uploads/2016/02/AirPassengers.csv\"\n",
    "stream = requests.get(url).content\n",
    "df_content = pd.read_csv(io.StringIO(stream.decode(\"utf-8\")))\n",
    "passengers = df_content\n",
    "passengers = df_content[\"#Passengers\"]"
   ]
  },
  {
   "cell_type": "code",
   "execution_count": 17,
   "id": "dae0d5de",
   "metadata": {},
   "outputs": [
    {
     "name": "stdout",
     "output_type": "stream",
     "text": [
      "[1.         0.94804734 0.87557484 0.80668116 0.75262542 0.71376997\n",
      " 0.6817336  0.66290439 0.65561048 0.67094833 0.70271992 0.74324019\n",
      " 0.76039504 0.71266087 0.64634228 0.58592342 0.53795519 0.49974753\n",
      " 0.46873401 0.44987066 0.4416288  0.45722376]\n"
     ]
    }
   ],
   "source": [
    "# auto corerelation\n",
    "p_acf = sm.tsa.stattools.acf(passengers)\n",
    "print(p_acf)"
   ]
  },
  {
   "cell_type": "code",
   "execution_count": 18,
   "id": "13fa0b09",
   "metadata": {},
   "outputs": [
    {
     "data": {
      "image/png": "[encoded data removed]",
      "text/plain": [
       "<Figure size 432x288 with 1 Axes>"
      ]
     },
     "metadata": {
      "needs_background": "light"
     },
     "output_type": "display_data"
    }
   ],
   "source": [
    "acf = sm.graphics.tsa.plot_acf(passengers, lags=40)"
   ]
  },
  {
   "cell_type": "code",
   "execution_count": 26,
   "id": "7f503dc4",
   "metadata": {},
   "outputs": [
    {
     "data": {
      "text/plain": [
       "array([ 1.        ,  0.95893198, -0.32983096,  0.2018249 ,  0.14500798,\n",
       "        0.25848232, -0.02690283,  0.20433019,  0.15607896,  0.56860841,\n",
       "        0.29256358,  0.8402143 ,  0.61268285, -0.66597616, -0.38463943,\n",
       "        0.0787466 , -0.02663483, -0.05805221, -0.04350748,  0.27732556,\n",
       "       -0.04046447,  0.13739883,  0.3859958 ,  0.24203808, -0.04912986,\n",
       "       -0.19599778, -0.15443575,  0.04484465,  0.18371541, -0.0906113 ,\n",
       "       -0.06202938,  0.34827092,  0.09899499, -0.08396793,  0.36328898,\n",
       "       -0.17956662,  0.15839435,  0.06376775, -0.27503705,  0.2707607 ,\n",
       "        0.32002003])"
      ]
     },
     "execution_count": 26,
     "metadata": {},
     "output_type": "execute_result"
    }
   ],
   "source": [
    "# PACF\n",
    "p_pacf = sm.tsa.stattools.pacf(passengers, 40, method=\"ols\")\n",
    "p_pacf"
   ]
  },
  {
   "cell_type": "code",
   "execution_count": 31,
   "id": "dd6365b0",
   "metadata": {},
   "outputs": [
    {
     "data": {
      "image/png": "[encoded data removed]",
      "text/plain": [
       "<Figure size 432x288 with 1 Axes>"
      ]
     },
     "metadata": {
      "needs_background": "light"
     },
     "output_type": "display_data"
    }
   ],
   "source": [
    "pacf = sm.graphics.tsa.plot_pacf(passengers, lags=35)"
   ]
  },
  {
   "cell_type": "code",
   "execution_count": 32,
   "id": "a2266fe8",
   "metadata": {},
   "outputs": [
    {
     "data": {
      "text/plain": [
       "2002/4/30         NaN\n",
       "2002/5/31   -0.036574\n",
       "2002/6/28   -0.023284\n",
       "2002/7/31   -0.045376\n",
       "2002/8/30    0.008687\n",
       "               ...   \n",
       "2023/5/31    0.029763\n",
       "2023/6/30    0.027558\n",
       "2023/7/31    0.000142\n",
       "2023/8/31    0.024884\n",
       "2023/9/29    0.019755\n",
       "Name: USD, Length: 258, dtype: float64"
      ]
     },
     "execution_count": 32,
     "metadata": {},
     "output_type": "execute_result"
    }
   ],
   "source": [
    "(1 + df_historical.USD.pct_change()).apply(np.log)"
   ]
  },
  {
   "cell_type": "code",
   "execution_count": 33,
   "id": "deef80e2",
   "metadata": {},
   "outputs": [
    {
     "data": {
      "text/plain": [
       "2002/4/30         NaN\n",
       "2002/5/31   -0.035913\n",
       "2002/6/28   -0.023015\n",
       "2002/7/31   -0.044362\n",
       "2002/8/30    0.008725\n",
       "               ...   \n",
       "2023/5/31    0.030210\n",
       "2023/6/30    0.027941\n",
       "2023/7/31    0.000142\n",
       "2023/8/31    0.025196\n",
       "2023/9/29    0.019952\n",
       "Name: USD, Length: 258, dtype: float64"
      ]
     },
     "execution_count": 33,
     "metadata": {},
     "output_type": "execute_result"
    }
   ],
   "source": [
    "df_historical.USD.div(df_historical.USD.shift(1)) - 1"
   ]
  },
  {
   "cell_type": "code",
   "execution_count": null,
   "id": "fbf1ebbb",
   "metadata": {},
   "outputs": [],
   "source": []
  }
 ],
 "metadata": {
  "kernelspec": {
   "display_name": "Python 3 (ipykernel)",
   "language": "python",
   "name": "python3"
  },
  "language_info": {
   "codemirror_mode": {
    "name": "ipython",
    "version": 3
   },
   "file_extension": ".py",
   "mimetype": "text/x-python",
   "name": "python",
   "nbconvert_exporter": "python",
   "pygments_lexer": "ipython3",
   "version": "3.10.12"
  }
 },
 "nbformat": 4,
 "nbformat_minor": 5
}
